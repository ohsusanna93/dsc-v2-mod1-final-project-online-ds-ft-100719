{
 "cells": [
  {
   "cell_type": "markdown",
   "metadata": {},
   "source": [
    "# my scratch paper - module 1 project"
   ]
  },
  {
   "cell_type": "markdown",
   "metadata": {},
   "source": [
    "# my data"
   ]
  },
  {
   "cell_type": "code",
   "execution_count": 1,
   "metadata": {},
   "outputs": [
    {
     "name": "stdout",
     "output_type": "stream",
     "text": [
      "Requirement already up-to-date: fsds_100719 in /Users/susannahan/anaconda3/lib/python3.7/site-packages (0.4.41)\n",
      "Requirement already satisfied, skipping upgrade: missingno in /Users/susannahan/anaconda3/lib/python3.7/site-packages (from fsds_100719) (0.4.2)\n",
      "Requirement already satisfied, skipping upgrade: pyperclip in /Users/susannahan/anaconda3/lib/python3.7/site-packages (from fsds_100719) (1.7.0)\n",
      "Requirement already satisfied, skipping upgrade: scikit-learn in /Users/susannahan/anaconda3/lib/python3.7/site-packages (from fsds_100719) (0.21.2)\n",
      "Requirement already satisfied, skipping upgrade: matplotlib in /Users/susannahan/anaconda3/lib/python3.7/site-packages (from fsds_100719) (3.1.0)\n",
      "Requirement already satisfied, skipping upgrade: ipywidgets in /Users/susannahan/anaconda3/lib/python3.7/site-packages (from fsds_100719) (7.5.0)\n",
      "Requirement already satisfied, skipping upgrade: wordcloud in /Users/susannahan/anaconda3/lib/python3.7/site-packages (from fsds_100719) (1.6.0)\n",
      "Requirement already satisfied, skipping upgrade: pandas in /Users/susannahan/anaconda3/lib/python3.7/site-packages (from fsds_100719) (0.24.2)\n",
      "Requirement already satisfied, skipping upgrade: pprint in /Users/susannahan/anaconda3/lib/python3.7/site-packages (from fsds_100719) (0.1)\n",
      "Requirement already satisfied, skipping upgrade: seaborn in /Users/susannahan/anaconda3/lib/python3.7/site-packages (from fsds_100719) (0.9.0)\n",
      "Requirement already satisfied, skipping upgrade: IPython in /Users/susannahan/anaconda3/lib/python3.7/site-packages (from fsds_100719) (7.6.1)\n",
      "Requirement already satisfied, skipping upgrade: numpy in /Users/susannahan/anaconda3/lib/python3.7/site-packages (from fsds_100719) (1.16.4)\n",
      "Requirement already satisfied, skipping upgrade: tzlocal in /Users/susannahan/anaconda3/lib/python3.7/site-packages (from fsds_100719) (2.0.0)\n",
      "Requirement already satisfied, skipping upgrade: scipy in /Users/susannahan/anaconda3/lib/python3.7/site-packages (from fsds_100719) (1.3.0)\n",
      "Requirement already satisfied, skipping upgrade: pandas-profiling in /Users/susannahan/anaconda3/lib/python3.7/site-packages (from fsds_100719) (2.3.0)\n",
      "Requirement already satisfied, skipping upgrade: joblib>=0.11 in /Users/susannahan/anaconda3/lib/python3.7/site-packages (from scikit-learn->fsds_100719) (0.13.2)\n",
      "Requirement already satisfied, skipping upgrade: cycler>=0.10 in /Users/susannahan/anaconda3/lib/python3.7/site-packages (from matplotlib->fsds_100719) (0.10.0)\n",
      "Requirement already satisfied, skipping upgrade: kiwisolver>=1.0.1 in /Users/susannahan/anaconda3/lib/python3.7/site-packages (from matplotlib->fsds_100719) (1.1.0)\n",
      "Requirement already satisfied, skipping upgrade: pyparsing!=2.0.4,!=2.1.2,!=2.1.6,>=2.0.1 in /Users/susannahan/anaconda3/lib/python3.7/site-packages (from matplotlib->fsds_100719) (2.4.0)\n",
      "Requirement already satisfied, skipping upgrade: python-dateutil>=2.1 in /Users/susannahan/anaconda3/lib/python3.7/site-packages (from matplotlib->fsds_100719) (2.8.0)\n",
      "Requirement already satisfied, skipping upgrade: ipykernel>=4.5.1 in /Users/susannahan/anaconda3/lib/python3.7/site-packages (from ipywidgets->fsds_100719) (5.1.1)\n",
      "Requirement already satisfied, skipping upgrade: traitlets>=4.3.1 in /Users/susannahan/anaconda3/lib/python3.7/site-packages (from ipywidgets->fsds_100719) (4.3.2)\n",
      "Requirement already satisfied, skipping upgrade: nbformat>=4.2.0 in /Users/susannahan/anaconda3/lib/python3.7/site-packages (from ipywidgets->fsds_100719) (4.4.0)\n",
      "Requirement already satisfied, skipping upgrade: widgetsnbextension~=3.5.0 in /Users/susannahan/anaconda3/lib/python3.7/site-packages (from ipywidgets->fsds_100719) (3.5.0)\n",
      "Requirement already satisfied, skipping upgrade: pillow in /Users/susannahan/anaconda3/lib/python3.7/site-packages (from wordcloud->fsds_100719) (6.1.0)\n",
      "Requirement already satisfied, skipping upgrade: pytz>=2011k in /Users/susannahan/anaconda3/lib/python3.7/site-packages (from pandas->fsds_100719) (2019.1)\n",
      "Requirement already satisfied, skipping upgrade: pygments in /Users/susannahan/anaconda3/lib/python3.7/site-packages (from IPython->fsds_100719) (2.4.2)\n",
      "Requirement already satisfied, skipping upgrade: setuptools>=18.5 in /Users/susannahan/anaconda3/lib/python3.7/site-packages (from IPython->fsds_100719) (41.0.1)\n",
      "Requirement already satisfied, skipping upgrade: decorator in /Users/susannahan/anaconda3/lib/python3.7/site-packages (from IPython->fsds_100719) (4.4.0)\n",
      "Requirement already satisfied, skipping upgrade: appnope; sys_platform == \"darwin\" in /Users/susannahan/anaconda3/lib/python3.7/site-packages (from IPython->fsds_100719) (0.1.0)\n",
      "Requirement already satisfied, skipping upgrade: pickleshare in /Users/susannahan/anaconda3/lib/python3.7/site-packages (from IPython->fsds_100719) (0.7.5)\n",
      "Requirement already satisfied, skipping upgrade: jedi>=0.10 in /Users/susannahan/anaconda3/lib/python3.7/site-packages (from IPython->fsds_100719) (0.13.3)\n",
      "Requirement already satisfied, skipping upgrade: pexpect; sys_platform != \"win32\" in /Users/susannahan/anaconda3/lib/python3.7/site-packages (from IPython->fsds_100719) (4.7.0)\n",
      "Requirement already satisfied, skipping upgrade: backcall in /Users/susannahan/anaconda3/lib/python3.7/site-packages (from IPython->fsds_100719) (0.1.0)\n",
      "Requirement already satisfied, skipping upgrade: prompt-toolkit<2.1.0,>=2.0.0 in /Users/susannahan/anaconda3/lib/python3.7/site-packages (from IPython->fsds_100719) (2.0.9)\n",
      "Requirement already satisfied, skipping upgrade: htmlmin>=0.1.12 in /Users/susannahan/anaconda3/lib/python3.7/site-packages (from pandas-profiling->fsds_100719) (0.1.12)\n",
      "Requirement already satisfied, skipping upgrade: phik>=0.9.8 in /Users/susannahan/anaconda3/lib/python3.7/site-packages (from pandas-profiling->fsds_100719) (0.9.8)\n",
      "Requirement already satisfied, skipping upgrade: confuse>=1.0.0 in /Users/susannahan/anaconda3/lib/python3.7/site-packages (from pandas-profiling->fsds_100719) (1.0.0)\n",
      "Requirement already satisfied, skipping upgrade: astropy in /Users/susannahan/anaconda3/lib/python3.7/site-packages (from pandas-profiling->fsds_100719) (3.2.1)\n",
      "Requirement already satisfied, skipping upgrade: jinja2>=2.8 in /Users/susannahan/anaconda3/lib/python3.7/site-packages (from pandas-profiling->fsds_100719) (2.10.1)\n",
      "Requirement already satisfied, skipping upgrade: six in /Users/susannahan/anaconda3/lib/python3.7/site-packages (from cycler>=0.10->matplotlib->fsds_100719) (1.12.0)\n",
      "Requirement already satisfied, skipping upgrade: tornado>=4.2 in /Users/susannahan/anaconda3/lib/python3.7/site-packages (from ipykernel>=4.5.1->ipywidgets->fsds_100719) (6.0.3)\n",
      "Requirement already satisfied, skipping upgrade: jupyter-client in /Users/susannahan/anaconda3/lib/python3.7/site-packages (from ipykernel>=4.5.1->ipywidgets->fsds_100719) (5.3.1)\n",
      "Requirement already satisfied, skipping upgrade: ipython-genutils in /Users/susannahan/anaconda3/lib/python3.7/site-packages (from traitlets>=4.3.1->ipywidgets->fsds_100719) (0.2.0)\n",
      "Requirement already satisfied, skipping upgrade: jsonschema!=2.5.0,>=2.4 in /Users/susannahan/anaconda3/lib/python3.7/site-packages (from nbformat>=4.2.0->ipywidgets->fsds_100719) (3.0.1)\n",
      "Requirement already satisfied, skipping upgrade: jupyter-core in /Users/susannahan/anaconda3/lib/python3.7/site-packages (from nbformat>=4.2.0->ipywidgets->fsds_100719) (4.5.0)\n",
      "Requirement already satisfied, skipping upgrade: notebook>=4.4.1 in /Users/susannahan/anaconda3/lib/python3.7/site-packages (from widgetsnbextension~=3.5.0->ipywidgets->fsds_100719) (6.0.0)\n",
      "Requirement already satisfied, skipping upgrade: parso>=0.3.0 in /Users/susannahan/anaconda3/lib/python3.7/site-packages (from jedi>=0.10->IPython->fsds_100719) (0.5.0)\n",
      "Requirement already satisfied, skipping upgrade: ptyprocess>=0.5 in /Users/susannahan/anaconda3/lib/python3.7/site-packages (from pexpect; sys_platform != \"win32\"->IPython->fsds_100719) (0.6.0)\n",
      "Requirement already satisfied, skipping upgrade: wcwidth in /Users/susannahan/anaconda3/lib/python3.7/site-packages (from prompt-toolkit<2.1.0,>=2.0.0->IPython->fsds_100719) (0.1.7)\n",
      "Requirement already satisfied, skipping upgrade: numba>=0.38.1 in /Users/susannahan/anaconda3/lib/python3.7/site-packages (from phik>=0.9.8->pandas-profiling->fsds_100719) (0.44.1)\n",
      "Requirement already satisfied, skipping upgrade: pytest>=4.0.2 in /Users/susannahan/anaconda3/lib/python3.7/site-packages (from phik>=0.9.8->pandas-profiling->fsds_100719) (5.0.1)\n"
     ]
    },
    {
     "name": "stdout",
     "output_type": "stream",
     "text": [
      "Requirement already satisfied, skipping upgrade: nbconvert>=5.3.1 in /Users/susannahan/anaconda3/lib/python3.7/site-packages (from phik>=0.9.8->pandas-profiling->fsds_100719) (5.5.0)\n",
      "Requirement already satisfied, skipping upgrade: pytest-pylint>=0.13.0 in /Users/susannahan/anaconda3/lib/python3.7/site-packages (from phik>=0.9.8->pandas-profiling->fsds_100719) (0.14.1)\n",
      "Requirement already satisfied, skipping upgrade: pyyaml in /Users/susannahan/anaconda3/lib/python3.7/site-packages (from confuse>=1.0.0->pandas-profiling->fsds_100719) (5.1.1)\n",
      "Requirement already satisfied, skipping upgrade: MarkupSafe>=0.23 in /Users/susannahan/anaconda3/lib/python3.7/site-packages (from jinja2>=2.8->pandas-profiling->fsds_100719) (1.1.1)\n",
      "Requirement already satisfied, skipping upgrade: pyzmq>=13 in /Users/susannahan/anaconda3/lib/python3.7/site-packages (from jupyter-client->ipykernel>=4.5.1->ipywidgets->fsds_100719) (18.0.0)\n",
      "Requirement already satisfied, skipping upgrade: attrs>=17.4.0 in /Users/susannahan/anaconda3/lib/python3.7/site-packages (from jsonschema!=2.5.0,>=2.4->nbformat>=4.2.0->ipywidgets->fsds_100719) (19.1.0)\n",
      "Requirement already satisfied, skipping upgrade: pyrsistent>=0.14.0 in /Users/susannahan/anaconda3/lib/python3.7/site-packages (from jsonschema!=2.5.0,>=2.4->nbformat>=4.2.0->ipywidgets->fsds_100719) (0.14.11)\n",
      "Requirement already satisfied, skipping upgrade: Send2Trash in /Users/susannahan/anaconda3/lib/python3.7/site-packages (from notebook>=4.4.1->widgetsnbextension~=3.5.0->ipywidgets->fsds_100719) (1.5.0)\n",
      "Requirement already satisfied, skipping upgrade: prometheus-client in /Users/susannahan/anaconda3/lib/python3.7/site-packages (from notebook>=4.4.1->widgetsnbextension~=3.5.0->ipywidgets->fsds_100719) (0.7.1)\n",
      "Requirement already satisfied, skipping upgrade: terminado>=0.8.1 in /Users/susannahan/anaconda3/lib/python3.7/site-packages (from notebook>=4.4.1->widgetsnbextension~=3.5.0->ipywidgets->fsds_100719) (0.8.2)\n",
      "Requirement already satisfied, skipping upgrade: llvmlite>=0.29.0 in /Users/susannahan/anaconda3/lib/python3.7/site-packages (from numba>=0.38.1->phik>=0.9.8->pandas-profiling->fsds_100719) (0.29.0)\n",
      "Requirement already satisfied, skipping upgrade: py>=1.5.0 in /Users/susannahan/anaconda3/lib/python3.7/site-packages (from pytest>=4.0.2->phik>=0.9.8->pandas-profiling->fsds_100719) (1.8.0)\n",
      "Requirement already satisfied, skipping upgrade: packaging in /Users/susannahan/anaconda3/lib/python3.7/site-packages (from pytest>=4.0.2->phik>=0.9.8->pandas-profiling->fsds_100719) (19.0)\n",
      "Requirement already satisfied, skipping upgrade: more-itertools>=4.0.0 in /Users/susannahan/anaconda3/lib/python3.7/site-packages (from pytest>=4.0.2->phik>=0.9.8->pandas-profiling->fsds_100719) (7.0.0)\n",
      "Requirement already satisfied, skipping upgrade: atomicwrites>=1.0 in /Users/susannahan/anaconda3/lib/python3.7/site-packages (from pytest>=4.0.2->phik>=0.9.8->pandas-profiling->fsds_100719) (1.3.0)\n",
      "Requirement already satisfied, skipping upgrade: pluggy<1.0,>=0.12 in /Users/susannahan/anaconda3/lib/python3.7/site-packages (from pytest>=4.0.2->phik>=0.9.8->pandas-profiling->fsds_100719) (0.12.0)\n",
      "Requirement already satisfied, skipping upgrade: importlib-metadata>=0.12 in /Users/susannahan/anaconda3/lib/python3.7/site-packages (from pytest>=4.0.2->phik>=0.9.8->pandas-profiling->fsds_100719) (0.17)\n",
      "Requirement already satisfied, skipping upgrade: entrypoints>=0.2.2 in /Users/susannahan/anaconda3/lib/python3.7/site-packages (from nbconvert>=5.3.1->phik>=0.9.8->pandas-profiling->fsds_100719) (0.3)\n",
      "Requirement already satisfied, skipping upgrade: pandocfilters>=1.4.1 in /Users/susannahan/anaconda3/lib/python3.7/site-packages (from nbconvert>=5.3.1->phik>=0.9.8->pandas-profiling->fsds_100719) (1.4.2)\n",
      "Requirement already satisfied, skipping upgrade: defusedxml in /Users/susannahan/anaconda3/lib/python3.7/site-packages (from nbconvert>=5.3.1->phik>=0.9.8->pandas-profiling->fsds_100719) (0.6.0)\n",
      "Requirement already satisfied, skipping upgrade: bleach in /Users/susannahan/anaconda3/lib/python3.7/site-packages (from nbconvert>=5.3.1->phik>=0.9.8->pandas-profiling->fsds_100719) (3.1.0)\n",
      "Requirement already satisfied, skipping upgrade: testpath in /Users/susannahan/anaconda3/lib/python3.7/site-packages (from nbconvert>=5.3.1->phik>=0.9.8->pandas-profiling->fsds_100719) (0.4.2)\n",
      "Requirement already satisfied, skipping upgrade: mistune>=0.8.1 in /Users/susannahan/anaconda3/lib/python3.7/site-packages (from nbconvert>=5.3.1->phik>=0.9.8->pandas-profiling->fsds_100719) (0.8.4)\n",
      "Requirement already satisfied, skipping upgrade: pylint>=1.4.5 in /Users/susannahan/anaconda3/lib/python3.7/site-packages (from pytest-pylint>=0.13.0->phik>=0.9.8->pandas-profiling->fsds_100719) (2.3.1)\n",
      "Requirement already satisfied, skipping upgrade: zipp>=0.5 in /Users/susannahan/anaconda3/lib/python3.7/site-packages (from importlib-metadata>=0.12->pytest>=4.0.2->phik>=0.9.8->pandas-profiling->fsds_100719) (0.5.1)\n",
      "Requirement already satisfied, skipping upgrade: webencodings in /Users/susannahan/anaconda3/lib/python3.7/site-packages (from bleach->nbconvert>=5.3.1->phik>=0.9.8->pandas-profiling->fsds_100719) (0.5.1)\n",
      "Requirement already satisfied, skipping upgrade: astroid<3,>=2.2.0 in /Users/susannahan/anaconda3/lib/python3.7/site-packages (from pylint>=1.4.5->pytest-pylint>=0.13.0->phik>=0.9.8->pandas-profiling->fsds_100719) (2.2.5)\n",
      "Requirement already satisfied, skipping upgrade: isort<5,>=4.2.5 in /Users/susannahan/anaconda3/lib/python3.7/site-packages (from pylint>=1.4.5->pytest-pylint>=0.13.0->phik>=0.9.8->pandas-profiling->fsds_100719) (4.3.21)\n",
      "Requirement already satisfied, skipping upgrade: mccabe<0.7,>=0.6 in /Users/susannahan/anaconda3/lib/python3.7/site-packages (from pylint>=1.4.5->pytest-pylint>=0.13.0->phik>=0.9.8->pandas-profiling->fsds_100719) (0.6.1)\n",
      "Requirement already satisfied, skipping upgrade: typed-ast>=1.3.0; implementation_name == \"cpython\" in /Users/susannahan/anaconda3/lib/python3.7/site-packages (from astroid<3,>=2.2.0->pylint>=1.4.5->pytest-pylint>=0.13.0->phik>=0.9.8->pandas-profiling->fsds_100719) (1.4.0)\n",
      "Requirement already satisfied, skipping upgrade: lazy-object-proxy in /Users/susannahan/anaconda3/lib/python3.7/site-packages (from astroid<3,>=2.2.0->pylint>=1.4.5->pytest-pylint>=0.13.0->phik>=0.9.8->pandas-profiling->fsds_100719) (1.4.1)\n",
      "Requirement already satisfied, skipping upgrade: wrapt in /Users/susannahan/anaconda3/lib/python3.7/site-packages (from astroid<3,>=2.2.0->pylint>=1.4.5->pytest-pylint>=0.13.0->phik>=0.9.8->pandas-profiling->fsds_100719) (1.11.2)\n",
      "fsds_1007219  v0.4.41 loaded.  Read the docs: https://fsds.readthedocs.io/en/latest/ \n",
      "> For convenient loading of standard modules use: `>> from fsds_100719.imports import *`\n",
      "\n"
     ]
    },
    {
     "ename": "ImportError",
     "evalue": "cannot import name 'ft' from 'fsds_100719' (/Users/susannahan/anaconda3/lib/python3.7/site-packages/fsds_100719/__init__.py)",
     "output_type": "error",
     "traceback": [
      "\u001b[0;31m---------------------------------------------------------------------------\u001b[0m",
      "\u001b[0;31mImportError\u001b[0m                               Traceback (most recent call last)",
      "\u001b[0;32m<ipython-input-1-5f733b0fbeed>\u001b[0m in \u001b[0;36m<module>\u001b[0;34m\u001b[0m\n\u001b[1;32m      1\u001b[0m \u001b[0mget_ipython\u001b[0m\u001b[0;34m(\u001b[0m\u001b[0;34m)\u001b[0m\u001b[0;34m.\u001b[0m\u001b[0msystem\u001b[0m\u001b[0;34m(\u001b[0m\u001b[0;34m'pip install -U fsds_100719'\u001b[0m\u001b[0;34m)\u001b[0m\u001b[0;34m\u001b[0m\u001b[0;34m\u001b[0m\u001b[0m\n\u001b[0;32m----> 2\u001b[0;31m \u001b[0;32mfrom\u001b[0m \u001b[0mfsds_100719\u001b[0m\u001b[0;34m.\u001b[0m\u001b[0mimports\u001b[0m \u001b[0;32mimport\u001b[0m \u001b[0;34m*\u001b[0m\u001b[0;34m\u001b[0m\u001b[0;34m\u001b[0m\u001b[0m\n\u001b[0m",
      "\u001b[0;32m~/anaconda3/lib/python3.7/site-packages/fsds_100719/__init__.py\u001b[0m in \u001b[0;36m<module>\u001b[0;34m\u001b[0m\n\u001b[1;32m      5\u001b[0m \u001b[0mprint\u001b[0m\u001b[0;34m(\u001b[0m\u001b[0;34mf\"fsds_1007219  v{__version__} loaded.  Read the docs: https://fsds.readthedocs.io/en/latest/ \"\u001b[0m\u001b[0;34m)\u001b[0m\u001b[0;34m\u001b[0m\u001b[0;34m\u001b[0m\u001b[0m\n\u001b[1;32m      6\u001b[0m \u001b[0mprint\u001b[0m\u001b[0;34m(\u001b[0m\u001b[0;34mf\"> For convenient loading of standard modules use: `>> from fsds_100719.imports import *`\\n\"\u001b[0m\u001b[0;34m)\u001b[0m\u001b[0;34m\u001b[0m\u001b[0;34m\u001b[0m\u001b[0m\n\u001b[0;32m----> 7\u001b[0;31m \u001b[0;32mfrom\u001b[0m \u001b[0mfsds_100719\u001b[0m \u001b[0;32mimport\u001b[0m \u001b[0mft\u001b[0m\u001b[0;34m,\u001b[0m\u001b[0mpt\u001b[0m\u001b[0;34m,\u001b[0m\u001b[0mds\u001b[0m\u001b[0;34m,\u001b[0m\u001b[0mdatasets\u001b[0m\u001b[0;34m,\u001b[0m\u001b[0mjmi\u001b[0m\u001b[0;34m,\u001b[0m\u001b[0mquick_refs\u001b[0m\u001b[0;34m\u001b[0m\u001b[0;34m\u001b[0m\u001b[0m\n\u001b[0m\u001b[1;32m      8\u001b[0m \u001b[0;32mfrom\u001b[0m \u001b[0;34m.\u001b[0m\u001b[0mds\u001b[0m \u001b[0;32mimport\u001b[0m \u001b[0;34m*\u001b[0m\u001b[0;31m#ihelp,ihelp_menu #quick_ref\u001b[0m\u001b[0;34m\u001b[0m\u001b[0;34m\u001b[0m\u001b[0m\n\u001b[1;32m      9\u001b[0m \u001b[0;31m# __all__ = []F\\\u001b[0m\u001b[0;34m\u001b[0m\u001b[0;34m\u001b[0m\u001b[0;34m\u001b[0m\u001b[0m\n",
      "\u001b[0;31mImportError\u001b[0m: cannot import name 'ft' from 'fsds_100719' (/Users/susannahan/anaconda3/lib/python3.7/site-packages/fsds_100719/__init__.py)"
     ]
    }
   ],
   "source": [
    "!pip install -U fsds_100719\n",
    "from fsds_100719.imports import *"
   ]
  },
  {
   "cell_type": "code",
   "execution_count": 2,
   "metadata": {},
   "outputs": [],
   "source": [
    "kc_df = pd.read_csv('kc_house_data.csv')\n",
    "pd.set_option('display.max_columns',0)"
   ]
  },
  {
   "cell_type": "code",
   "execution_count": null,
   "metadata": {},
   "outputs": [],
   "source": [
    "import statsmodels.api as sm\n",
    "import statsmodels.stats.api as sms\n",
    "import statsmodels.formula.api as smf\n",
    "import scipy.stats\n",
    "\n",
    "from sklearn.preprocessing import StandardScaler\n"
   ]
  },
  {
   "cell_type": "code",
   "execution_count": 3,
   "metadata": {},
   "outputs": [
    {
     "name": "stdout",
     "output_type": "stream",
     "text": [
      "<class 'pandas.core.frame.DataFrame'>\n",
      "RangeIndex: 21597 entries, 0 to 21596\n",
      "Data columns (total 21 columns):\n",
      "id               21597 non-null int64\n",
      "date             21597 non-null object\n",
      "price            21597 non-null float64\n",
      "bedrooms         21597 non-null int64\n",
      "bathrooms        21597 non-null float64\n",
      "sqft_living      21597 non-null int64\n",
      "sqft_lot         21597 non-null int64\n",
      "floors           21597 non-null float64\n",
      "waterfront       19221 non-null float64\n",
      "view             21534 non-null float64\n",
      "condition        21597 non-null int64\n",
      "grade            21597 non-null int64\n",
      "sqft_above       21597 non-null int64\n",
      "sqft_basement    21597 non-null object\n",
      "yr_built         21597 non-null int64\n",
      "yr_renovated     17755 non-null float64\n",
      "zipcode          21597 non-null int64\n",
      "lat              21597 non-null float64\n",
      "long             21597 non-null float64\n",
      "sqft_living15    21597 non-null int64\n",
      "sqft_lot15       21597 non-null int64\n",
      "dtypes: float64(8), int64(11), object(2)\n",
      "memory usage: 3.5+ MB\n"
     ]
    }
   ],
   "source": [
    "kc_df.info()"
   ]
  },
  {
   "cell_type": "code",
   "execution_count": null,
   "metadata": {},
   "outputs": [],
   "source": []
  },
  {
   "cell_type": "markdown",
   "metadata": {},
   "source": [
    "# exploring data"
   ]
  },
  {
   "cell_type": "code",
   "execution_count": null,
   "metadata": {},
   "outputs": [],
   "source": [
    "def check_columns(kc_df, col_name, n_unique=10):\n",
    "    \"\"\"Displays info on datatype, null values, unique \n",
    "    values and displays .describe()\n",
    "    \n",
    "    Arg:\n",
    "        kc_df(df): contains the columns\n",
    "        col_name(str): name of the df column to show\n",
    "        n_unique(int): number of unique values top show.\n",
    "    Return:\n",
    "        fig, ax(matplotlib Figure and Axes)\n",
    "    \"\"\"\n",
    "    print('DataType:')\n",
    "    print(kc_df[col_name].dtypes)\n",
    "    \n",
    "    print('Null Values Present={num_nulls}')\n",
    "    num_nulls = kc_df[col_name].isna().sum()\n",
    "    \n",
    "    print('Describe:')\n",
    "    display(kc_df[col_name].describe().round(3))\n",
    "    \n",
    "    print('/n Value Counts:')\n",
    "    display(kc_df[col_name].value_counts())\n",
    "    \n",
    "    fig, ax = plt.subplots(ncols=2)\n",
    "    sns.distplot(kc_df[col_name],ax=ax[0],label=col_name)\n",
    "    ax[0].legend()\n",
    "    sns.scatterplot(kc_df[col_name], ax=ax[0],label=col_name)\n",
    "    ax[0].lengend()\n",
    "    return fig, ax\n",
    "    \n"
   ]
  },
  {
   "cell_type": "code",
   "execution_count": null,
   "metadata": {
    "scrolled": true
   },
   "outputs": [],
   "source": [
    "check_columns[kc_df,'waterfront']"
   ]
  },
  {
   "cell_type": "code",
   "execution_count": null,
   "metadata": {},
   "outputs": [],
   "source": [
    "kc_df.drop('id','date', axis=1, inplace = True) "
   ]
  },
  {
   "cell_type": "code",
   "execution_count": null,
   "metadata": {},
   "outputs": [],
   "source": [
    "#objective \n",
    "#You'll clean, explore, and model this dataset with a multivariate linear regression \n",
    "#to predict the sale price of houses as accurately as possible."
   ]
  },
  {
   "cell_type": "markdown",
   "metadata": {},
   "source": [
    "# cleaning/scrubbing data"
   ]
  },
  {
   "cell_type": "code",
   "execution_count": null,
   "metadata": {
    "scrolled": true
   },
   "outputs": [],
   "source": [
    "nulls = kc_df.isnull().sum()\n",
    "print(nulls[nulls>0])"
   ]
  },
  {
   "cell_type": "code",
   "execution_count": null,
   "metadata": {
    "scrolled": true
   },
   "outputs": [],
   "source": [
    "nulls_percentage = nulls/len(kc_df)\n",
    "print(nulls_percentage[nulls>0])\n",
    "#percentage of null values "
   ]
  },
  {
   "cell_type": "code",
   "execution_count": null,
   "metadata": {},
   "outputs": [],
   "source": [
    "categorical values:\n",
    "    waterfront\n",
    "    view"
   ]
  },
  {
   "cell_type": "code",
   "execution_count": null,
   "metadata": {},
   "outputs": [],
   "source": [
    "data_pred = kc_house_data.iloc[:,1:21]\n",
    "data_pred.head()"
   ]
  },
  {
   "cell_type": "code",
   "execution_count": null,
   "metadata": {},
   "outputs": [],
   "source": [
    "kc_df['waterfront'].value_counts()"
   ]
  },
  {
   "cell_type": "code",
   "execution_count": null,
   "metadata": {},
   "outputs": [],
   "source": [
    "#if i want to fill in specific rows with N/A\n",
    "#kc_df['column'].fillna(kc_df['column'].median(), inplace =True)"
   ]
  },
  {
   "cell_type": "code",
   "execution_count": null,
   "metadata": {},
   "outputs": [],
   "source": [
    "#if you want to locate specific rows where there is null.\n",
    "#kc_df.loc[kc_df['column'].isnull()]"
   ]
  },
  {
   "cell_type": "code",
   "execution_count": null,
   "metadata": {},
   "outputs": [],
   "source": [
    "#pd.plotting.scatter_matrix(kc_df);\n",
    "#plt.show()"
   ]
  },
  {
   "cell_type": "code",
   "execution_count": null,
   "metadata": {},
   "outputs": [],
   "source": [
    "fig, ax = plt.subplots(ncols=9,nrows=9, figsize=15,15)"
   ]
  },
  {
   "cell_type": "code",
   "execution_count": null,
   "metadata": {},
   "outputs": [],
   "source": [
    "pd.plotting.scatter_matrix(kc_df);\n",
    "plt.show()"
   ]
  },
  {
   "cell_type": "code",
   "execution_count": null,
   "metadata": {},
   "outputs": [],
   "source": [
    "#fig = df['whatever data'].bar() <-- this is using pandas but you can use matplotlib methods \n",
    "\n",
    "#plt.legend()\n",
    "#plt.xlabel('')\n",
    "#plt.ylabel('')\n",
    "#plt.title('')\n",
    "#plt.show()\n",
    "\n",
    "#IGNORE BELOW unless needed: \n",
    "#xticks = np.linspace(start = 0 , stop = 100, num = (number of ticks))\n",
    "#yticks = np.linspace(start = 0 , stop = 100, num = (number of ticks))\n",
    "#plt.xticks\n",
    "#plt.yticks"
   ]
  },
  {
   "cell_type": "code",
   "execution_count": null,
   "metadata": {},
   "outputs": [],
   "source": [
    "#fig, ax = plt.subplots(ncols= , nrows=)\n",
    "#tis will give you a figure with axes subplots() will give you one; ncol/nrows will give\n",
    "#you multiple. "
   ]
  },
  {
   "cell_type": "code",
   "execution_count": null,
   "metadata": {},
   "outputs": [],
   "source": [
    "kc_df.scatterplot"
   ]
  },
  {
   "cell_type": "code",
   "execution_count": null,
   "metadata": {},
   "outputs": [],
   "source": [
    "#plt.scatter(df.xvalue, df.yvalue)\n",
    "#plt.title('')\n",
    "#plt.xlabel('')\n",
    "#plt.ylabel('')\n",
    "#plt.show()\n",
    "\n",
    "#linerity check - to see if there is a linear regression"
   ]
  },
  {
   "cell_type": "code",
   "execution_count": null,
   "metadata": {},
   "outputs": [],
   "source": [
    "#check if the data is distributed correctly/\n",
    "#df.plot.kde()\n",
    "#plt.title('distribution check for dep/ind variable')\n",
    "#plt.show()\n",
    "\n",
    "#mound shape is good "
   ]
  },
  {
   "cell_type": "markdown",
   "metadata": {},
   "source": [
    "# Regression Assumptions"
   ]
  },
  {
   "cell_type": "markdown",
   "metadata": {},
   "source": [
    "make sure you have a linear regression between our target and predicted variable."
   ]
  },
  {
   "cell_type": "markdown",
   "metadata": {},
   "source": [
    "homoscedasticity"
   ]
  },
  {
   "cell_type": "markdown",
   "metadata": {},
   "source": [
    "we want homoscedasticity with our data // if we don'tthat means we don't want some assumptions for\n",
    "our linear regression."
   ]
  },
  {
   "cell_type": "code",
   "execution_count": null,
   "metadata": {},
   "outputs": [],
   "source": []
  },
  {
   "cell_type": "code",
   "execution_count": null,
   "metadata": {},
   "outputs": [],
   "source": []
  },
  {
   "cell_type": "code",
   "execution_count": null,
   "metadata": {},
   "outputs": [],
   "source": []
  },
  {
   "cell_type": "markdown",
   "metadata": {},
   "source": [
    "# Correlation and Multicollinearity"
   ]
  },
  {
   "cell_type": "code",
   "execution_count": null,
   "metadata": {},
   "outputs": [],
   "source": [
    "#df.corr().round(3) - shows you correlation percentage. "
   ]
  },
  {
   "cell_type": "code",
   "execution_count": null,
   "metadata": {},
   "outputs": [],
   "source": [
    "#np.abs(df.corr().round(3))>.75\n",
    "#where in our correlation table that's greater than .75"
   ]
  },
  {
   "cell_type": "code",
   "execution_count": null,
   "metadata": {},
   "outputs": [],
   "source": [
    "#fig, ax = plt.subplots(figsize =(12,12)\n",
    "#mask = np.zeros_like(df.corr().round(3), dtype=np.bool)\n",
    "#idx = np.triu_indices_from(mask)\n",
    "#mask(idx) = True\n",
    "#sns.heatmap(np.abs(df.corr().round(3)), mask=mask, annot = True, cmaps ='', ax=ax)\n",
    "\n",
    "#above .75 is problematic because they are highly correlated\n",
    "#repeated information - it will hurt you more than help you\n",
    "#therefore, drop the problematic columns."
   ]
  },
  {
   "cell_type": "code",
   "execution_count": null,
   "metadata": {},
   "outputs": [],
   "source": [
    "from statsmodels.formula.api import ols\n",
    "import statsmodels.api as sm\n",
    "#f= 'dependent-independnet'\n",
    "#model = ols(formula = f, data=df).fit()\n",
    "#model.summary()"
   ]
  },
  {
   "cell_type": "code",
   "execution_count": null,
   "metadata": {},
   "outputs": [],
   "source": [
    "import matplotlib as mpl\n",
    "mpl.reParams['figure.figsize']=(16,16)\n",
    "#defaults the param"
   ]
  },
  {
   "cell_type": "code",
   "execution_count": null,
   "metadata": {},
   "outputs": [],
   "source": [
    "fig = pd.plotting.scatter_matrix(df, figsize=(16.16))"
   ]
  },
  {
   "cell_type": "markdown",
   "metadata": {},
   "source": [
    "# Scaling and Normalization"
   ]
  },
  {
   "cell_type": "code",
   "execution_count": null,
   "metadata": {},
   "outputs": [],
   "source": [
    "#process of making data distribution more normally distributed.\n",
    "#log transformation\n",
    "#remove outliers - z scores/IQR"
   ]
  },
  {
   "cell_type": "code",
   "execution_count": null,
   "metadata": {},
   "outputs": [],
   "source": [
    "#do not log transform categorical variables.\n",
    "for col in log_cols:\n",
    "    df[col+'_log'] = np.log(df[col])\n",
    "df.hist();"
   ]
  },
  {
   "cell_type": "code",
   "execution_count": null,
   "metadata": {},
   "outputs": [],
   "source": [
    "#drop whatever log_cols that didn't help normalize \n",
    "#the distribution.\n",
    "df.drop('_log', axis =1, inplace=True)\n",
    "df.describe().round(3)"
   ]
  },
  {
   "cell_type": "markdown",
   "metadata": {},
   "source": [
    "# Standardization (z scores)"
   ]
  },
  {
   "cell_type": "code",
   "execution_count": null,
   "metadata": {},
   "outputs": [],
   "source": [
    "what columns to treat as categories:\n",
    "cat_cols = ['categorical']\n",
    "num_cols = boston.drop(['price','cat_cols'], axis=1).columns\n",
    "num_cols\n",
    "#num cols will be anything but price(?)"
   ]
  },
  {
   "cell_type": "code",
   "execution_count": null,
   "metadata": {},
   "outputs": [],
   "source": [
    "from sklearn.preprocessing import StandardScaler\n",
    "scaler = StandardScaler()\n",
    "scaled_data = scaler.fit_transform(num_cols)\n"
   ]
  },
  {
   "cell_type": "code",
   "execution_count": null,
   "metadata": {},
   "outputs": [],
   "source": [
    "boston_scaled = pd.DataFrame(data=scaled_data, columns =num_cols)\n",
    "boston_scaled.describe().round(3)\n",
    "#everything should be on z score between -3 to 3\n",
    "#you can identify outliers if they are outside the parameters"
   ]
  },
  {
   "cell_type": "code",
   "execution_count": null,
   "metadata": {},
   "outputs": [],
   "source": [
    "# add back the dependent variables so when the outliers\n",
    "#are deleted they will equally be dropped.\n",
    "\n",
    "#boston_scaled['price'] = boston['price']\n",
    "#boston_scaled['categorical'] = boston['categorical']\n",
    "#boston_scaled.describe().round(3)"
   ]
  },
  {
   "cell_type": "code",
   "execution_count": null,
   "metadata": {},
   "outputs": [],
   "source": [
    "#getting rid of outliers \n",
    "df = boston.copy()\n",
    "df.loc[df['categorical']<3]\n",
    "#all the values greater than 3 should be gone\n",
    "#apply to every column that has outliers"
   ]
  },
  {
   "cell_type": "markdown",
   "metadata": {},
   "source": [
    "# creating our models"
   ]
  },
  {
   "cell_type": "markdown",
   "metadata": {},
   "source": [
    "# multiple regression statsmodels\n",
    "this will form our model\n",
    "we can check if our model is any good by looking at the fit summary. "
   ]
  },
  {
   "cell_type": "code",
   "execution_count": null,
   "metadata": {},
   "outputs": [],
   "source": [
    "import statsmodels.api as sm\n",
    "import statsmodels.stats.api as sms\n",
    "import statsmodels.formula.api as smf"
   ]
  },
  {
   "cell_type": "code",
   "execution_count": null,
   "metadata": {},
   "outputs": [],
   "source": [
    "#columns to drop for the model\n",
    "cols = df.drop(['price,''lstat'],axis=1).columns\n",
    "str_cols= ' +'.join(cols)\n",
    "str_cols"
   ]
  },
  {
   "cell_type": "code",
   "execution_count": null,
   "metadata": {},
   "outputs": [],
   "source": [
    "formula = 'price-'+str_cols\n",
    "formula"
   ]
  },
  {
   "cell_type": "code",
   "execution_count": null,
   "metadata": {},
   "outputs": [],
   "source": [
    "model = smf.ols(formula=formula, data=df).fit()\n",
    "model.summary()"
   ]
  },
  {
   "cell_type": "code",
   "execution_count": null,
   "metadata": {},
   "outputs": [],
   "source": [
    "#look at the p-value if greater than (.05)\n",
    "#you can drop because they are not giving you\n",
    "#anything significant/meaningful info in the model"
   ]
  },
  {
   "cell_type": "markdown",
   "metadata": {},
   "source": [
    "# Kurtosis (above 3 is too high)"
   ]
  },
  {
   "cell_type": "markdown",
   "metadata": {},
   "source": [
    "plot our distribution vs perfectly ideal normal distribution.\n",
    "\n",
    "now that we have created our model we want to check our model.\n",
    "\n",
    "look at risiduals\n",
    "homogenaity "
   ]
  },
  {
   "cell_type": "code",
   "execution_count": null,
   "metadata": {},
   "outputs": [],
   "source": [
    "\n",
    "import scipy.stats\n",
    "resids = model.resid\n",
    "sm.graphics.qqplot(resids, stats.norm, line ='45', fit=True)"
   ]
  },
  {
   "cell_type": "code",
   "execution_count": null,
   "metadata": {},
   "outputs": [],
   "source": [
    "#see if there are more outliers to remove. \n",
    "#if so go back and move."
   ]
  },
  {
   "cell_type": "markdown",
   "metadata": {},
   "source": [
    "# Model Fit and Validation"
   ]
  },
  {
   "cell_type": "code",
   "execution_count": null,
   "metadata": {},
   "outputs": [],
   "source": [
    "#Train and Test split\n",
    "#r2 result ( you can't just use r2 alone because it'll be different every time you use different train data sets)"
   ]
  },
  {
   "cell_type": "code",
   "execution_count": null,
   "metadata": {},
   "outputs": [],
   "source": [
    "#k-fold validation - splits your data into 10 and takes the \n",
    "#average of all the rounds. (this is better/more accurate)"
   ]
  },
  {
   "cell_type": "code",
   "execution_count": null,
   "metadata": {},
   "outputs": [],
   "source": []
  },
  {
   "cell_type": "code",
   "execution_count": null,
   "metadata": {},
   "outputs": [],
   "source": []
  },
  {
   "cell_type": "code",
   "execution_count": null,
   "metadata": {},
   "outputs": [],
   "source": []
  },
  {
   "cell_type": "code",
   "execution_count": null,
   "metadata": {},
   "outputs": [],
   "source": []
  },
  {
   "cell_type": "code",
   "execution_count": null,
   "metadata": {},
   "outputs": [],
   "source": []
  },
  {
   "cell_type": "code",
   "execution_count": null,
   "metadata": {},
   "outputs": [],
   "source": []
  },
  {
   "cell_type": "code",
   "execution_count": null,
   "metadata": {},
   "outputs": [],
   "source": []
  }
 ],
 "metadata": {
  "kernelspec": {
   "display_name": "Python 3",
   "language": "python",
   "name": "python3"
  },
  "language_info": {
   "codemirror_mode": {
    "name": "ipython",
    "version": 3
   },
   "file_extension": ".py",
   "mimetype": "text/x-python",
   "name": "python",
   "nbconvert_exporter": "python",
   "pygments_lexer": "ipython3",
   "version": "3.7.3"
  }
 },
 "nbformat": 4,
 "nbformat_minor": 2
}
